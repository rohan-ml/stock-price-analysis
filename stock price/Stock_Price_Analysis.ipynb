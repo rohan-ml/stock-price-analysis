{
  "nbformat": 4,
  "nbformat_minor": 0,
  "metadata": {
    "colab": {
      "name": "Stock Price Analysis.ipynb",
      "provenance": []
    },
    "kernelspec": {
      "name": "python3",
      "display_name": "Python 3"
    }
  },
  "cells": [
    {
      "cell_type": "code",
      "metadata": {
        "id": "hLprwEZpcAK7",
        "colab_type": "code",
        "colab": {}
      },
      "source": [
        "import pandas as pd\n",
        "import numpy as np"
      ],
      "execution_count": 0,
      "outputs": []
    },
    {
      "cell_type": "code",
      "metadata": {
        "id": "nsB1zB1RcHDp",
        "colab_type": "code",
        "colab": {}
      },
      "source": [
        "data = pd.read_csv(\"data/stock_prices.csv\")"
      ],
      "execution_count": 0,
      "outputs": []
    },
    {
      "cell_type": "code",
      "metadata": {
        "id": "c4g4zpFMcdx-",
        "colab_type": "code",
        "colab": {}
      },
      "source": [
        "def get_final_data(data):\n",
        "  data = data.drop(columns=[\"Date\", \"Adj Close\"])\n",
        "  values = data.values\n",
        "  return values[:, [0, 1, 2, 3, 4]], values[:, 3]"
      ],
      "execution_count": 0,
      "outputs": []
    },
    {
      "cell_type": "code",
      "metadata": {
        "id": "lQIfwtvJdKJV",
        "colab_type": "code",
        "colab": {}
      },
      "source": [
        "def get_final_y(y_data):\n",
        "  y_data = list(y_data)\n",
        "  y_data.pop(0)\n",
        "  y_data.append(None)\n",
        "  return y_data"
      ],
      "execution_count": 0,
      "outputs": []
    },
    {
      "cell_type": "code",
      "metadata": {
        "id": "O0EHXIsVeu-T",
        "colab_type": "code",
        "colab": {}
      },
      "source": [
        "def get_prepared_data(data):\n",
        "  data, y_data= get_final_data(data)\n",
        "  shifted_data = get_final_y(y_data)\n",
        "  return data[:-1], shifted_data[:-1]"
      ],
      "execution_count": 0,
      "outputs": []
    },
    {
      "cell_type": "code",
      "metadata": {
        "id": "bOoTbUD5faUU",
        "colab_type": "code",
        "colab": {}
      },
      "source": [
        "def train_test_split(X, Y, train_freq=0.8):\n",
        "  lx = len(X)\n",
        "  split_train = int(train_freq * lx)\n",
        "  train_x, train_y = X[:split_train], Y[:split_train]\n",
        "  test_x, test_y = X[split_train:], Y[split_train:]\n",
        "  return train_x, train_y, test_x, test_y"
      ],
      "execution_count": 0,
      "outputs": []
    },
    {
      "cell_type": "code",
      "metadata": {
        "id": "t3uu_qALgJB5",
        "colab_type": "code",
        "colab": {}
      },
      "source": [
        "def prep_data(train_x, train_y):\n",
        "    train_x, train_y, test_x, test_y = train_test_split(train_x, train_y)\n",
        "    train_x=np.array(np.expand_dims(train_x, axis=1))\n",
        "    train_y=np.array(train_y)\n",
        "    test_x=np.array(np.expand_dims(test_x, axis=1))\n",
        "    test_y=np.array(test_y)\n",
        "\n",
        "    # print(train_x.shape, train_y.shape, test_x.shape, test_y.shape)\n",
        "    return train_x, train_y, test_x, test_y"
      ],
      "execution_count": 0,
      "outputs": []
    },
    {
      "cell_type": "code",
      "metadata": {
        "id": "ExQb5-H5hroZ",
        "colab_type": "code",
        "colab": {}
      },
      "source": [
        "import tensorflow as tf\n",
        "from keras import backend as K\n",
        "import random as rn\n",
        "rs=5\n",
        "np.random.seed(rs)\n",
        "rn.seed(rs)\n",
        "session_conf = tf.ConfigProto(intra_op_parallelism_threads=1, inter_op_parallelism_threads=1)\n",
        "tf.set_random_seed(rs)\n",
        "sess = tf.Session(graph=tf.get_default_graph(), config=session_conf)\n",
        "K.set_session(sess)\n"
      ],
      "execution_count": 0,
      "outputs": []
    },
    {
      "cell_type": "code",
      "metadata": {
        "id": "jRmbqnTEn63_",
        "colab_type": "code",
        "colab": {}
      },
      "source": [
        "from keras.models import Sequential, load_model\n",
        "from keras.layers import Dense, LSTM"
      ],
      "execution_count": 0,
      "outputs": []
    },
    {
      "cell_type": "code",
      "metadata": {
        "id": "xn5SIsRvoHQp",
        "colab_type": "code",
        "colab": {}
      },
      "source": [
        "def define_lstm_model(batches, input_shape):\n",
        "  model = Sequential()\n",
        "  model.add(LSTM(60, input_shape = input_shape, stateful=True, batch_input_shape=(batches, input_shape[0], input_shape[1])))\n",
        "  model.add(Dense(1))\n",
        "  return model"
      ],
      "execution_count": 0,
      "outputs": []
    },
    {
      "cell_type": "code",
      "metadata": {
        "id": "ae973CePo2cz",
        "colab_type": "code",
        "colab": {}
      },
      "source": [
        "def train_model(train_x, train_y, test_x, test_y, epochs=110, batches=1):\n",
        "  model = define_lstm_model(batches, (train_x.shape[1], train_x.shape[2]))\n",
        "  model.compile(loss='mean_squared_error', optimizer='adam', metrics=['mse','mape'])\n",
        "  model.fit(train_x, train_y, verbose=2, epochs=epochs, batch_size=batches, validation_data=(test_x, test_y), shuffle=False)\n",
        "  return model"
      ],
      "execution_count": 0,
      "outputs": []
    },
    {
      "cell_type": "code",
      "metadata": {
        "id": "1RwL6T7qpkZw",
        "colab_type": "code",
        "colab": {
          "base_uri": "https://localhost:8080/",
          "height": 1000
        },
        "outputId": "774c5ad1-a3ab-4854-d3fd-afa30bb3ca92"
      },
      "source": [
        "train_x, train_y=get_prepared_data(data)\n",
        "train_x,train_y,test_x,test_y=prep_data(train_x, train_y)\n",
        "model=train_model(train_x, train_y, test_x, test_y)"
      ],
      "execution_count": 280,
      "outputs": [
        {
          "output_type": "stream",
          "text": [
            "Train on 200 samples, validate on 50 samples\n",
            "Epoch 1/110\n",
            " - 3s - loss: 104328.2097 - mean_squared_error: 104328.2097 - mean_absolute_percentage_error: 99.6421 - val_loss: 103683.8992 - val_mean_squared_error: 103683.8992 - val_mean_absolute_percentage_error: 99.0881\n",
            "Epoch 2/110\n",
            " - 0s - loss: 101901.2967 - mean_squared_error: 101901.2967 - mean_absolute_percentage_error: 98.4591 - val_loss: 101249.4827 - val_mean_squared_error: 101249.4827 - val_mean_absolute_percentage_error: 97.9088\n",
            "Epoch 3/110\n",
            " - 0s - loss: 99494.2432 - mean_squared_error: 99494.2432 - mean_absolute_percentage_error: 97.2725 - val_loss: 98850.7266 - val_mean_squared_error: 98850.7266 - val_mean_absolute_percentage_error: 96.7327\n",
            "Epoch 4/110\n",
            " - 1s - loss: 97124.5354 - mean_squared_error: 97124.5354 - mean_absolute_percentage_error: 96.0902 - val_loss: 96490.2489 - val_mean_squared_error: 96490.2489 - val_mean_absolute_percentage_error: 95.5613\n",
            "Epoch 5/110\n",
            " - 0s - loss: 94793.1879 - mean_squared_error: 94793.1879 - mean_absolute_percentage_error: 94.9128 - val_loss: 94168.0783 - val_mean_squared_error: 94168.0783 - val_mean_absolute_percentage_error: 94.3948\n",
            "Epoch 6/110\n",
            " - 0s - loss: 92499.8694 - mean_squared_error: 92499.8694 - mean_absolute_percentage_error: 93.7403 - val_loss: 91883.6723 - val_mean_squared_error: 91883.6723 - val_mean_absolute_percentage_error: 93.2332\n",
            "Epoch 7/110\n",
            " - 0s - loss: 90243.8889 - mean_squared_error: 90243.8889 - mean_absolute_percentage_error: 92.5725 - val_loss: 89636.2291 - val_mean_squared_error: 89636.2291 - val_mean_absolute_percentage_error: 92.0760\n",
            "Epoch 8/110\n",
            " - 0s - loss: 88024.4507 - mean_squared_error: 88024.4507 - mean_absolute_percentage_error: 91.4091 - val_loss: 87424.9666 - val_mean_squared_error: 87424.9666 - val_mean_absolute_percentage_error: 90.9232\n",
            "Epoch 9/110\n",
            " - 0s - loss: 85840.7411 - mean_squared_error: 85840.7411 - mean_absolute_percentage_error: 90.2500 - val_loss: 85249.0484 - val_mean_squared_error: 85249.0484 - val_mean_absolute_percentage_error: 89.7744\n",
            "Epoch 10/110\n",
            " - 0s - loss: 83691.9755 - mean_squared_error: 83691.9755 - mean_absolute_percentage_error: 89.0947 - val_loss: 83107.7220 - val_mean_squared_error: 83107.7220 - val_mean_absolute_percentage_error: 88.6294\n",
            "Epoch 11/110\n",
            " - 0s - loss: 81577.4136 - mean_squared_error: 81577.4136 - mean_absolute_percentage_error: 87.9432 - val_loss: 81000.2879 - val_mean_squared_error: 81000.2879 - val_mean_absolute_percentage_error: 87.4879\n",
            "Epoch 12/110\n",
            " - 0s - loss: 79496.3576 - mean_squared_error: 79496.3576 - mean_absolute_percentage_error: 86.7951 - val_loss: 78926.0402 - val_mean_squared_error: 78926.0402 - val_mean_absolute_percentage_error: 86.3498\n",
            "Epoch 13/110\n",
            " - 0s - loss: 77448.1527 - mean_squared_error: 77448.1527 - mean_absolute_percentage_error: 85.6502 - val_loss: 76884.3710 - val_mean_squared_error: 76884.3710 - val_mean_absolute_percentage_error: 85.2148\n",
            "Epoch 14/110\n",
            " - 0s - loss: 75432.2236 - mean_squared_error: 75432.2236 - mean_absolute_percentage_error: 84.5084 - val_loss: 74874.7275 - val_mean_squared_error: 74874.7275 - val_mean_absolute_percentage_error: 84.0826\n",
            "Epoch 15/110\n",
            " - 0s - loss: 73448.0266 - mean_squared_error: 73448.0266 - mean_absolute_percentage_error: 83.3693 - val_loss: 72896.5753 - val_mean_squared_error: 72896.5753 - val_mean_absolute_percentage_error: 82.9532\n",
            "Epoch 16/110\n",
            " - 0s - loss: 71495.0647 - mean_squared_error: 71495.0647 - mean_absolute_percentage_error: 82.2329 - val_loss: 70949.4448 - val_mean_squared_error: 70949.4448 - val_mean_absolute_percentage_error: 81.8264\n",
            "Epoch 17/110\n",
            " - 0s - loss: 69572.8892 - mean_squared_error: 69572.8892 - mean_absolute_percentage_error: 81.0991 - val_loss: 69032.9179 - val_mean_squared_error: 69032.9179 - val_mean_absolute_percentage_error: 80.7019\n",
            "Epoch 18/110\n",
            " - 0s - loss: 67681.1081 - mean_squared_error: 67681.1081 - mean_absolute_percentage_error: 79.9675 - val_loss: 67146.6070 - val_mean_squared_error: 67146.6070 - val_mean_absolute_percentage_error: 79.5798\n",
            "Epoch 19/110\n",
            " - 0s - loss: 65819.3536 - mean_squared_error: 65819.3536 - mean_absolute_percentage_error: 78.8382 - val_loss: 65290.1947 - val_mean_squared_error: 65290.1947 - val_mean_absolute_percentage_error: 78.4598\n",
            "Epoch 20/110\n",
            " - 0s - loss: 63987.3166 - mean_squared_error: 63987.3166 - mean_absolute_percentage_error: 77.7111 - val_loss: 63463.3466 - val_mean_squared_error: 63463.3466 - val_mean_absolute_percentage_error: 77.3420\n",
            "Epoch 21/110\n",
            " - 0s - loss: 62184.6849 - mean_squared_error: 62184.6849 - mean_absolute_percentage_error: 76.5860 - val_loss: 61665.7973 - val_mean_squared_error: 61665.7973 - val_mean_absolute_percentage_error: 76.2261\n",
            "Epoch 22/110\n",
            " - 0s - loss: 60411.2235 - mean_squared_error: 60411.2235 - mean_absolute_percentage_error: 75.4629 - val_loss: 59897.3064 - val_mean_squared_error: 59897.3064 - val_mean_absolute_percentage_error: 75.1122\n",
            "Epoch 23/110\n",
            " - 0s - loss: 58666.6735 - mean_squared_error: 58666.6735 - mean_absolute_percentage_error: 74.3417 - val_loss: 58157.6472 - val_mean_squared_error: 58157.6472 - val_mean_absolute_percentage_error: 74.0002\n",
            "Epoch 24/110\n",
            " - 0s - loss: 56950.8707 - mean_squared_error: 56950.8707 - mean_absolute_percentage_error: 73.2224 - val_loss: 56446.6363 - val_mean_squared_error: 56446.6363 - val_mean_absolute_percentage_error: 72.8900\n",
            "Epoch 25/110\n",
            " - 0s - loss: 55263.5852 - mean_squared_error: 55263.5852 - mean_absolute_percentage_error: 72.1049 - val_loss: 54764.0809 - val_mean_squared_error: 54764.0809 - val_mean_absolute_percentage_error: 71.7816\n",
            "Epoch 26/110\n",
            " - 0s - loss: 53604.6558 - mean_squared_error: 53604.6558 - mean_absolute_percentage_error: 70.9892 - val_loss: 53109.8346 - val_mean_squared_error: 53109.8346 - val_mean_absolute_percentage_error: 70.6750\n",
            "Epoch 27/110\n",
            " - 0s - loss: 51973.9616 - mean_squared_error: 51973.9616 - mean_absolute_percentage_error: 69.8753 - val_loss: 51483.7381 - val_mean_squared_error: 51483.7381 - val_mean_absolute_percentage_error: 69.5702\n",
            "Epoch 28/110\n",
            " - 0s - loss: 50371.3272 - mean_squared_error: 50371.3272 - mean_absolute_percentage_error: 68.7632 - val_loss: 49885.6427 - val_mean_squared_error: 49885.6427 - val_mean_absolute_percentage_error: 68.4672\n",
            "Epoch 29/110\n",
            " - 0s - loss: 48796.6108 - mean_squared_error: 48796.6108 - mean_absolute_percentage_error: 67.6528 - val_loss: 48315.4458 - val_mean_squared_error: 48315.4458 - val_mean_absolute_percentage_error: 67.3659\n",
            "Epoch 30/110\n",
            " - 0s - loss: 47249.7621 - mean_squared_error: 47249.7621 - mean_absolute_percentage_error: 66.5442 - val_loss: 46773.0727 - val_mean_squared_error: 46773.0727 - val_mean_absolute_percentage_error: 66.2664\n",
            "Epoch 31/110\n",
            " - 0s - loss: 45730.6376 - mean_squared_error: 45730.6376 - mean_absolute_percentage_error: 65.4374 - val_loss: 45258.3929 - val_mean_squared_error: 45258.3929 - val_mean_absolute_percentage_error: 65.1687\n",
            "Epoch 32/110\n",
            " - 0s - loss: 44239.1445 - mean_squared_error: 44239.1445 - mean_absolute_percentage_error: 64.3325 - val_loss: 43771.3150 - val_mean_squared_error: 43771.3150 - val_mean_absolute_percentage_error: 64.0729\n",
            "Epoch 33/110\n",
            " - 0s - loss: 42775.2127 - mean_squared_error: 42775.2127 - mean_absolute_percentage_error: 63.2293 - val_loss: 42311.7692 - val_mean_squared_error: 42311.7692 - val_mean_absolute_percentage_error: 62.9788\n",
            "Epoch 34/110\n",
            " - 0s - loss: 41338.7289 - mean_squared_error: 41338.7289 - mean_absolute_percentage_error: 62.1281 - val_loss: 40879.6482 - val_mean_squared_error: 40879.6482 - val_mean_absolute_percentage_error: 61.8867\n",
            "Epoch 35/110\n",
            " - 0s - loss: 39929.6170 - mean_squared_error: 39929.6170 - mean_absolute_percentage_error: 61.0287 - val_loss: 39474.8163 - val_mean_squared_error: 39474.8163 - val_mean_absolute_percentage_error: 60.7964\n",
            "Epoch 36/110\n",
            " - 0s - loss: 38547.7416 - mean_squared_error: 38547.7416 - mean_absolute_percentage_error: 59.9312 - val_loss: 38097.2590 - val_mean_squared_error: 38097.2590 - val_mean_absolute_percentage_error: 59.7081\n",
            "Epoch 37/110\n",
            " - 0s - loss: 37193.1154 - mean_squared_error: 37193.1154 - mean_absolute_percentage_error: 58.8357 - val_loss: 36746.9417 - val_mean_squared_error: 36746.9417 - val_mean_absolute_percentage_error: 58.6219\n",
            "Epoch 38/110\n",
            " - 0s - loss: 35865.6324 - mean_squared_error: 35865.6324 - mean_absolute_percentage_error: 57.7423 - val_loss: 35423.7195 - val_mean_squared_error: 35423.7195 - val_mean_absolute_percentage_error: 57.5376\n",
            "Epoch 39/110\n",
            " - 0s - loss: 34565.2227 - mean_squared_error: 34565.2227 - mean_absolute_percentage_error: 56.6509 - val_loss: 34127.5718 - val_mean_squared_error: 34127.5718 - val_mean_absolute_percentage_error: 56.4555\n",
            "Epoch 40/110\n",
            " - 0s - loss: 33291.8109 - mean_squared_error: 33291.8109 - mean_absolute_percentage_error: 55.5617 - val_loss: 32858.3657 - val_mean_squared_error: 32858.3657 - val_mean_absolute_percentage_error: 55.3756\n",
            "Epoch 41/110\n",
            " - 1s - loss: 32045.3095 - mean_squared_error: 32045.3095 - mean_absolute_percentage_error: 54.4747 - val_loss: 31616.1007 - val_mean_squared_error: 31616.1007 - val_mean_absolute_percentage_error: 54.2979\n",
            "Epoch 42/110\n",
            " - 1s - loss: 30825.6930 - mean_squared_error: 30825.6930 - mean_absolute_percentage_error: 53.3900 - val_loss: 30400.6715 - val_mean_squared_error: 30400.6715 - val_mean_absolute_percentage_error: 53.2225\n",
            "Epoch 43/110\n",
            " - 1s - loss: 29632.8275 - mean_squared_error: 29632.8275 - mean_absolute_percentage_error: 52.3077 - val_loss: 29211.9692 - val_mean_squared_error: 29211.9692 - val_mean_absolute_percentage_error: 52.1495\n",
            "Epoch 44/110\n",
            " - 1s - loss: 28466.6594 - mean_squared_error: 28466.6594 - mean_absolute_percentage_error: 51.2277 - val_loss: 28049.9719 - val_mean_squared_error: 28049.9719 - val_mean_absolute_percentage_error: 51.0790\n",
            "Epoch 45/110\n",
            " - 1s - loss: 27327.1408 - mean_squared_error: 27327.1408 - mean_absolute_percentage_error: 50.1503 - val_loss: 26914.6025 - val_mean_squared_error: 26914.6025 - val_mean_absolute_percentage_error: 50.0110\n",
            "Epoch 46/110\n",
            " - 1s - loss: 26214.1612 - mean_squared_error: 26214.1612 - mean_absolute_percentage_error: 49.0755 - val_loss: 25805.7138 - val_mean_squared_error: 25805.7138 - val_mean_absolute_percentage_error: 48.9457\n",
            "Epoch 47/110\n",
            " - 1s - loss: 25127.6059 - mean_squared_error: 25127.6059 - mean_absolute_percentage_error: 48.0033 - val_loss: 24723.2992 - val_mean_squared_error: 24723.2992 - val_mean_absolute_percentage_error: 47.8831\n",
            "Epoch 48/110\n",
            " - 1s - loss: 24067.4966 - mean_squared_error: 24067.4966 - mean_absolute_percentage_error: 46.9339 - val_loss: 23667.2586 - val_mean_squared_error: 23667.2586 - val_mean_absolute_percentage_error: 46.8233\n",
            "Epoch 49/110\n",
            " - 1s - loss: 23033.6636 - mean_squared_error: 23033.6636 - mean_absolute_percentage_error: 45.8674 - val_loss: 22637.5037 - val_mean_squared_error: 22637.5037 - val_mean_absolute_percentage_error: 45.7665\n",
            "Epoch 50/110\n",
            " - 1s - loss: 22026.0717 - mean_squared_error: 22026.0717 - mean_absolute_percentage_error: 44.8040 - val_loss: 21633.9774 - val_mean_squared_error: 21633.9774 - val_mean_absolute_percentage_error: 44.7128\n",
            "Epoch 51/110\n",
            " - 1s - loss: 21044.6186 - mean_squared_error: 21044.6186 - mean_absolute_percentage_error: 43.7437 - val_loss: 20656.5403 - val_mean_squared_error: 20656.5403 - val_mean_absolute_percentage_error: 43.6622\n",
            "Epoch 52/110\n",
            " - 1s - loss: 20089.1833 - mean_squared_error: 20089.1833 - mean_absolute_percentage_error: 42.6866 - val_loss: 19705.1329 - val_mean_squared_error: 19705.1329 - val_mean_absolute_percentage_error: 42.6150\n",
            "Epoch 53/110\n",
            " - 1s - loss: 19159.7096 - mean_squared_error: 19159.7096 - mean_absolute_percentage_error: 41.6329 - val_loss: 18779.6486 - val_mean_squared_error: 18779.6486 - val_mean_absolute_percentage_error: 41.5712\n",
            "Epoch 54/110\n",
            " - 1s - loss: 18256.0727 - mean_squared_error: 18256.0727 - mean_absolute_percentage_error: 40.5827 - val_loss: 17879.9857 - val_mean_squared_error: 17879.9857 - val_mean_absolute_percentage_error: 40.5310\n",
            "Epoch 55/110\n",
            " - 1s - loss: 17378.1768 - mean_squared_error: 17378.1768 - mean_absolute_percentage_error: 39.5362 - val_loss: 17006.0242 - val_mean_squared_error: 17006.0242 - val_mean_absolute_percentage_error: 39.4946\n",
            "Epoch 56/110\n",
            " - 1s - loss: 16525.8868 - mean_squared_error: 16525.8868 - mean_absolute_percentage_error: 38.4936 - val_loss: 16157.6511 - val_mean_squared_error: 16157.6511 - val_mean_absolute_percentage_error: 38.4621\n",
            "Epoch 57/110\n",
            " - 1s - loss: 15699.0861 - mean_squared_error: 15699.0861 - mean_absolute_percentage_error: 37.4549 - val_loss: 15334.7450 - val_mean_squared_error: 15334.7450 - val_mean_absolute_percentage_error: 37.4336\n",
            "Epoch 58/110\n",
            " - 1s - loss: 14897.6775 - mean_squared_error: 14897.6775 - mean_absolute_percentage_error: 36.4203 - val_loss: 14537.1851 - val_mean_squared_error: 14537.1851 - val_mean_absolute_percentage_error: 36.4094\n",
            "Epoch 59/110\n",
            " - 1s - loss: 14121.5035 - mean_squared_error: 14121.5035 - mean_absolute_percentage_error: 35.3901 - val_loss: 13764.8610 - val_mean_squared_error: 13764.8610 - val_mean_absolute_percentage_error: 35.3897\n",
            "Epoch 60/110\n",
            " - 1s - loss: 13370.4720 - mean_squared_error: 13370.4720 - mean_absolute_percentage_error: 34.3645 - val_loss: 13017.6313 - val_mean_squared_error: 13017.6313 - val_mean_absolute_percentage_error: 34.3746\n",
            "Epoch 61/110\n",
            " - 0s - loss: 12644.4450 - mean_squared_error: 12644.4450 - mean_absolute_percentage_error: 33.3436 - val_loss: 12295.3959 - val_mean_squared_error: 12295.3959 - val_mean_absolute_percentage_error: 33.3645\n",
            "Epoch 62/110\n",
            " - 0s - loss: 11943.2686 - mean_squared_error: 11943.2686 - mean_absolute_percentage_error: 32.3278 - val_loss: 11597.9643 - val_mean_squared_error: 11597.9643 - val_mean_absolute_percentage_error: 32.3595\n",
            "Epoch 63/110\n",
            " - 0s - loss: 11266.7846 - mean_squared_error: 11266.7846 - mean_absolute_percentage_error: 31.3173 - val_loss: 10925.1862 - val_mean_squared_error: 10925.1862 - val_mean_absolute_percentage_error: 31.3598\n",
            "Epoch 64/110\n",
            " - 0s - loss: 10614.8060 - mean_squared_error: 10614.8060 - mean_absolute_percentage_error: 30.3122 - val_loss: 10276.8731 - val_mean_squared_error: 10276.8731 - val_mean_absolute_percentage_error: 30.3658\n",
            "Epoch 65/110\n",
            " - 0s - loss: 9987.1740 - mean_squared_error: 9987.1740 - mean_absolute_percentage_error: 29.3128 - val_loss: 9652.8660 - val_mean_squared_error: 9652.8660 - val_mean_absolute_percentage_error: 29.3777\n",
            "Epoch 66/110\n",
            " - 0s - loss: 9383.7321 - mean_squared_error: 9383.7321 - mean_absolute_percentage_error: 28.3196 - val_loss: 9053.0283 - val_mean_squared_error: 9053.0283 - val_mean_absolute_percentage_error: 28.3960\n",
            "Epoch 67/110\n",
            " - 0s - loss: 8804.2855 - mean_squared_error: 8804.2855 - mean_absolute_percentage_error: 27.3328 - val_loss: 8477.1174 - val_mean_squared_error: 8477.1174 - val_mean_absolute_percentage_error: 27.4207\n",
            "Epoch 68/110\n",
            " - 0s - loss: 8248.6210 - mean_squared_error: 8248.6210 - mean_absolute_percentage_error: 26.3527 - val_loss: 7924.9395 - val_mean_squared_error: 7924.9395 - val_mean_absolute_percentage_error: 26.4524\n",
            "Epoch 69/110\n",
            " - 0s - loss: 7716.5366 - mean_squared_error: 7716.5366 - mean_absolute_percentage_error: 25.3798 - val_loss: 7396.3067 - val_mean_squared_error: 7396.3067 - val_mean_absolute_percentage_error: 25.4915\n",
            "Epoch 70/110\n",
            " - 0s - loss: 7207.7953 - mean_squared_error: 7207.7953 - mean_absolute_percentage_error: 24.4143 - val_loss: 6890.9607 - val_mean_squared_error: 6890.9607 - val_mean_absolute_percentage_error: 24.5383\n",
            "Epoch 71/110\n",
            " - 0s - loss: 6722.1589 - mean_squared_error: 6722.1589 - mean_absolute_percentage_error: 23.4567 - val_loss: 6408.6423 - val_mean_squared_error: 6408.6423 - val_mean_absolute_percentage_error: 23.5931\n",
            "Epoch 72/110\n",
            " - 0s - loss: 6259.3571 - mean_squared_error: 6259.3571 - mean_absolute_percentage_error: 22.5075 - val_loss: 5949.0963 - val_mean_squared_error: 5949.0963 - val_mean_absolute_percentage_error: 22.6566\n",
            "Epoch 73/110\n",
            " - 0s - loss: 5819.1339 - mean_squared_error: 5819.1339 - mean_absolute_percentage_error: 21.5670 - val_loss: 5512.0899 - val_mean_squared_error: 5512.0899 - val_mean_absolute_percentage_error: 21.7292\n",
            "Epoch 74/110\n",
            " - 0s - loss: 5401.2267 - mean_squared_error: 5401.2267 - mean_absolute_percentage_error: 20.6472 - val_loss: 5097.3291 - val_mean_squared_error: 5097.3291 - val_mean_absolute_percentage_error: 20.8115\n",
            "Epoch 75/110\n",
            " - 0s - loss: 5005.3156 - mean_squared_error: 5005.3156 - mean_absolute_percentage_error: 19.7396 - val_loss: 4704.4444 - val_mean_squared_error: 4704.4444 - val_mean_absolute_percentage_error: 19.9039\n",
            "Epoch 76/110\n",
            " - 0s - loss: 4631.0372 - mean_squared_error: 4631.0372 - mean_absolute_percentage_error: 18.8518 - val_loss: 4333.1477 - val_mean_squared_error: 4333.1477 - val_mean_absolute_percentage_error: 19.0073\n",
            "Epoch 77/110\n",
            " - 0s - loss: 4278.0924 - mean_squared_error: 4278.0924 - mean_absolute_percentage_error: 17.9749 - val_loss: 3983.0901 - val_mean_squared_error: 3983.0901 - val_mean_absolute_percentage_error: 18.1221\n",
            "Epoch 78/110\n",
            " - 0s - loss: 3946.1062 - mean_squared_error: 3946.1062 - mean_absolute_percentage_error: 17.1125 - val_loss: 3653.9033 - val_mean_squared_error: 3653.9033 - val_mean_absolute_percentage_error: 17.2492\n",
            "Epoch 79/110\n",
            " - 0s - loss: 3634.6734 - mean_squared_error: 3634.6734 - mean_absolute_percentage_error: 16.2782 - val_loss: 3345.1679 - val_mean_squared_error: 3345.1679 - val_mean_absolute_percentage_error: 16.3893\n",
            "Epoch 80/110\n",
            " - 0s - loss: 3343.3840 - mean_squared_error: 3343.3840 - mean_absolute_percentage_error: 15.4588 - val_loss: 3056.4545 - val_mean_squared_error: 3056.4545 - val_mean_absolute_percentage_error: 15.5432\n",
            "Epoch 81/110\n",
            " - 0s - loss: 3071.7721 - mean_squared_error: 3071.7721 - mean_absolute_percentage_error: 14.6544 - val_loss: 2787.3233 - val_mean_squared_error: 2787.3233 - val_mean_absolute_percentage_error: 14.7118\n",
            "Epoch 82/110\n",
            " - 0s - loss: 2819.3764 - mean_squared_error: 2819.3764 - mean_absolute_percentage_error: 13.8776 - val_loss: 2537.2722 - val_mean_squared_error: 2537.2722 - val_mean_absolute_percentage_error: 13.8961\n",
            "Epoch 83/110\n",
            " - 0s - loss: 2585.6746 - mean_squared_error: 2585.6746 - mean_absolute_percentage_error: 13.1462 - val_loss: 2305.7745 - val_mean_squared_error: 2305.7745 - val_mean_absolute_percentage_error: 13.0969\n",
            "Epoch 84/110\n",
            " - 0s - loss: 2370.1203 - mean_squared_error: 2370.1203 - mean_absolute_percentage_error: 12.4497 - val_loss: 2092.2983 - val_mean_squared_error: 2092.2983 - val_mean_absolute_percentage_error: 12.3154\n",
            "Epoch 85/110\n",
            " - 0s - loss: 2172.1394 - mean_squared_error: 2172.1394 - mean_absolute_percentage_error: 11.8124 - val_loss: 1896.2431 - val_mean_squared_error: 1896.2431 - val_mean_absolute_percentage_error: 11.5527\n",
            "Epoch 86/110\n",
            " - 0s - loss: 1991.1186 - mean_squared_error: 1991.1186 - mean_absolute_percentage_error: 11.2358 - val_loss: 1716.9816 - val_mean_squared_error: 1716.9816 - val_mean_absolute_percentage_error: 10.8099\n",
            "Epoch 87/110\n",
            " - 0s - loss: 1826.3871 - mean_squared_error: 1826.3871 - mean_absolute_percentage_error: 10.6922 - val_loss: 1553.8408 - val_mean_squared_error: 1553.8408 - val_mean_absolute_percentage_error: 10.0927\n",
            "Epoch 88/110\n",
            " - 0s - loss: 1677.2541 - mean_squared_error: 1677.2541 - mean_absolute_percentage_error: 10.1963 - val_loss: 1406.1200 - val_mean_squared_error: 1406.1200 - val_mean_absolute_percentage_error: 9.4244\n",
            "Epoch 89/110\n",
            " - 0s - loss: 1542.9821 - mean_squared_error: 1542.9821 - mean_absolute_percentage_error: 9.7523 - val_loss: 1273.0820 - val_mean_squared_error: 1273.0820 - val_mean_absolute_percentage_error: 8.7787\n",
            "Epoch 90/110\n",
            " - 0s - loss: 1422.8149 - mean_squared_error: 1422.8149 - mean_absolute_percentage_error: 9.3443 - val_loss: 1153.9512 - val_mean_squared_error: 1153.9512 - val_mean_absolute_percentage_error: 8.1568\n",
            "Epoch 91/110\n",
            " - 0s - loss: 1315.9385 - mean_squared_error: 1315.9385 - mean_absolute_percentage_error: 8.9577 - val_loss: 1047.9150 - val_mean_squared_error: 1047.9150 - val_mean_absolute_percentage_error: 7.6191\n",
            "Epoch 92/110\n",
            " - 0s - loss: 1221.5200 - mean_squared_error: 1221.5200 - mean_absolute_percentage_error: 8.6047 - val_loss: 954.1349 - val_mean_squared_error: 954.1349 - val_mean_absolute_percentage_error: 7.1280\n",
            "Epoch 93/110\n",
            " - 0s - loss: 1138.6924 - mean_squared_error: 1138.6924 - mean_absolute_percentage_error: 8.3080 - val_loss: 871.7325 - val_mean_squared_error: 871.7325 - val_mean_absolute_percentage_error: 6.6982\n",
            "Epoch 94/110\n",
            " - 0s - loss: 1066.5620 - mean_squared_error: 1066.5620 - mean_absolute_percentage_error: 8.0464 - val_loss: 799.8317 - val_mean_squared_error: 799.8317 - val_mean_absolute_percentage_error: 6.3358\n",
            "Epoch 95/110\n",
            " - 0s - loss: 1004.2366 - mean_squared_error: 1004.2366 - mean_absolute_percentage_error: 7.8341 - val_loss: 737.5347 - val_mean_squared_error: 737.5347 - val_mean_absolute_percentage_error: 6.0276\n",
            "Epoch 96/110\n",
            " - 0s - loss: 950.8103 - mean_squared_error: 950.8103 - mean_absolute_percentage_error: 7.6562 - val_loss: 683.9496 - val_mean_squared_error: 683.9496 - val_mean_absolute_percentage_error: 5.7695\n",
            "Epoch 97/110\n",
            " - 0s - loss: 905.3862 - mean_squared_error: 905.3862 - mean_absolute_percentage_error: 7.5028 - val_loss: 638.1909 - val_mean_squared_error: 638.1909 - val_mean_absolute_percentage_error: 5.5542\n",
            "Epoch 98/110\n",
            " - 0s - loss: 867.0896 - mean_squared_error: 867.0896 - mean_absolute_percentage_error: 7.3789 - val_loss: 599.4015 - val_mean_squared_error: 599.4015 - val_mean_absolute_percentage_error: 5.4103\n",
            "Epoch 99/110\n",
            " - 0s - loss: 835.0719 - mean_squared_error: 835.0719 - mean_absolute_percentage_error: 7.2731 - val_loss: 566.7514 - val_mean_squared_error: 566.7514 - val_mean_absolute_percentage_error: 5.2999\n",
            "Epoch 100/110\n",
            " - 0s - loss: 808.5227 - mean_squared_error: 808.5227 - mean_absolute_percentage_error: 7.1897 - val_loss: 539.4461 - val_mean_squared_error: 539.4461 - val_mean_absolute_percentage_error: 5.2159\n",
            "Epoch 101/110\n",
            " - 0s - loss: 786.6845 - mean_squared_error: 786.6845 - mean_absolute_percentage_error: 7.1245 - val_loss: 516.7665 - val_mean_squared_error: 516.7665 - val_mean_absolute_percentage_error: 5.1449\n",
            "Epoch 102/110\n",
            " - 0s - loss: 768.8661 - mean_squared_error: 768.8661 - mean_absolute_percentage_error: 7.0678 - val_loss: 498.0323 - val_mean_squared_error: 498.0323 - val_mean_absolute_percentage_error: 5.0878\n",
            "Epoch 103/110\n",
            " - 0s - loss: 754.4279 - mean_squared_error: 754.4279 - mean_absolute_percentage_error: 7.0310 - val_loss: 482.6413 - val_mean_squared_error: 482.6413 - val_mean_absolute_percentage_error: 5.0361\n",
            "Epoch 104/110\n",
            " - 0s - loss: 742.8141 - mean_squared_error: 742.8141 - mean_absolute_percentage_error: 7.0092 - val_loss: 470.0506 - val_mean_squared_error: 470.0506 - val_mean_absolute_percentage_error: 4.9895\n",
            "Epoch 105/110\n",
            " - 0s - loss: 733.5235 - mean_squared_error: 733.5235 - mean_absolute_percentage_error: 6.9956 - val_loss: 459.7916 - val_mean_squared_error: 459.7916 - val_mean_absolute_percentage_error: 4.9549\n",
            "Epoch 106/110\n",
            " - 0s - loss: 726.1384 - mean_squared_error: 726.1384 - mean_absolute_percentage_error: 6.9906 - val_loss: 451.4536 - val_mean_squared_error: 451.4536 - val_mean_absolute_percentage_error: 4.9255\n",
            "Epoch 107/110\n",
            " - 0s - loss: 720.2900 - mean_squared_error: 720.2900 - mean_absolute_percentage_error: 6.9883 - val_loss: 444.6924 - val_mean_squared_error: 444.6924 - val_mean_absolute_percentage_error: 4.8994\n",
            "Epoch 108/110\n",
            " - 0s - loss: 715.6803 - mean_squared_error: 715.6803 - mean_absolute_percentage_error: 6.9862 - val_loss: 439.2116 - val_mean_squared_error: 439.2116 - val_mean_absolute_percentage_error: 4.8823\n",
            "Epoch 109/110\n",
            " - 0s - loss: 712.0527 - mean_squared_error: 712.0527 - mean_absolute_percentage_error: 6.9843 - val_loss: 434.7738 - val_mean_squared_error: 434.7738 - val_mean_absolute_percentage_error: 4.8788\n",
            "Epoch 110/110\n",
            " - 0s - loss: 709.2083 - mean_squared_error: 709.2083 - mean_absolute_percentage_error: 6.9837 - val_loss: 431.1745 - val_mean_squared_error: 431.1745 - val_mean_absolute_percentage_error: 4.8798\n"
          ],
          "name": "stdout"
        }
      ]
    },
    {
      "cell_type": "code",
      "metadata": {
        "id": "d6WU055HtIe4",
        "colab_type": "code",
        "colab": {}
      },
      "source": [
        "train_score = model.evaluate(train_x, train_y, verbose=0, batch_size=1)"
      ],
      "execution_count": 0,
      "outputs": []
    },
    {
      "cell_type": "code",
      "metadata": {
        "id": "472fgVchqfuY",
        "colab_type": "code",
        "colab": {}
      },
      "source": [
        "test_score = model.evaluate(test_x, test_y, verbose=0, batch_size=1)"
      ],
      "execution_count": 0,
      "outputs": []
    },
    {
      "cell_type": "code",
      "metadata": {
        "id": "wjeWqh0Lsye-",
        "colab_type": "code",
        "colab": {
          "base_uri": "https://localhost:8080/",
          "height": 53
        },
        "outputId": "cfc67a06-c5e3-459a-bbae-e7663ff6958f"
      },
      "source": [
        "train_score, test_score"
      ],
      "execution_count": 284,
      "outputs": [
        {
          "output_type": "execute_result",
          "data": {
            "text/plain": [
              "([703.1921998626366, 703.1921998626366, 6.950832686051727],\n",
              " [431.1745428594947, 431.1745428594947, 4.879801982492208])"
            ]
          },
          "metadata": {
            "tags": []
          },
          "execution_count": 284
        }
      ]
    },
    {
      "cell_type": "code",
      "metadata": {
        "id": "8MXs4a0ptNtt",
        "colab_type": "code",
        "colab": {}
      },
      "source": [
        "to_predict=[[296.94,298.19,288.00,288.95,8350500], 280.74]\n",
        "data_shape=(1,5)"
      ],
      "execution_count": 0,
      "outputs": []
    },
    {
      "cell_type": "code",
      "metadata": {
        "id": "0E1ftSZEthth",
        "colab_type": "code",
        "colab": {
          "base_uri": "https://localhost:8080/",
          "height": 35
        },
        "outputId": "20393146-b413-40c6-f186-6a4c9af3d61d"
      },
      "source": [
        "p=np.array(to_predict[0])\n",
        "p=np.reshape(p, (1, data_shape[0], data_shape[1]))\n",
        "x=model.predict(p, batch_size=1)\n",
        "x"
      ],
      "execution_count": 286,
      "outputs": [
        {
          "output_type": "execute_result",
          "data": {
            "text/plain": [
              "array([[319.73438]], dtype=float32)"
            ]
          },
          "metadata": {
            "tags": []
          },
          "execution_count": 286
        }
      ]
    },
    {
      "cell_type": "code",
      "metadata": {
        "id": "JhNsAblnt450",
        "colab_type": "code",
        "colab": {}
      },
      "source": [
        ""
      ],
      "execution_count": 0,
      "outputs": []
    }
  ]
}